{
 "cells": [
  {
   "cell_type": "code",
   "execution_count": 18,
   "metadata": {
    "collapsed": true,
    "ExecuteTime": {
     "end_time": "2023-07-05T23:46:29.906324600Z",
     "start_time": "2023-07-05T23:46:28.198224100Z"
    }
   },
   "outputs": [],
   "source": [
    "import java.nio.file.Paths\n",
    "import kotlin.io.path.ExperimentalPathApi\n",
    "import kotlin.io.path.fileSize\n",
    "import kotlin.io.path.isRegularFile\n",
    "import kotlin.io.path.listDirectoryEntries\n",
    "import kotlin.io.path.walk\n",
    "\n",
    "@OptIn(ExperimentalPathApi::class)\n",
    "val filesToCopy = Paths.get(\"E:\\\\Series\").walk()\n",
    "    .filter { it.isRegularFile() && it.fileSize() <= (Math.pow(1024.0, 3.0) * 5L) }\n",
    "    .toList()"
   ]
  },
  {
   "cell_type": "code",
   "execution_count": null,
   "outputs": [],
   "source": [
    "import kotlin.io.path.Path\n",
    "import kotlin.io.path.copyTo\n",
    "import kotlin.io.path.createDirectories\n",
    "import kotlin.io.path.div\n",
    "import kotlin.io.path.relativeTo\n",
    "\n",
    "val oldPath = Path(\"E:\\\\\")\n",
    "val newPath = Path(\"H:\\\\\")\n",
    "\n",
    "filesToCopy.forEach {\n",
    "    val destinyFile = newPath / it.relativeTo(oldPath)\n",
    "    destinyFile.parent?.createDirectories()\n",
    "    it.copyTo(destinyFile)\n",
    "}"
   ],
   "metadata": {
    "collapsed": false,
    "is_executing": true,
    "ExecuteTime": {
     "start_time": "2023-07-05T23:50:58.340526600Z"
    }
   }
  }
 ],
 "metadata": {
  "kernelspec": {
   "display_name": "Kotlin",
   "language": "kotlin",
   "name": "kotlin"
  },
  "language_info": {
   "name": "kotlin",
   "version": "1.8.20",
   "mimetype": "text/x-kotlin",
   "file_extension": ".kt",
   "pygments_lexer": "kotlin",
   "codemirror_mode": "text/x-kotlin",
   "nbconvert_exporter": ""
  }
 },
 "nbformat": 4,
 "nbformat_minor": 0
}
